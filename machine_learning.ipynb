{
 "cells": [
  {
   "cell_type": "markdown",
   "id": "professional-square",
   "metadata": {},
   "source": [
    "## Load data"
   ]
  },
  {
   "cell_type": "code",
   "execution_count": 1,
   "id": "desperate-valentine",
   "metadata": {},
   "outputs": [],
   "source": [
    "import pandas as pd"
   ]
  },
  {
   "cell_type": "code",
   "execution_count": 2,
   "id": "fifteen-genius",
   "metadata": {},
   "outputs": [],
   "source": [
    "df = pd.read_csv(\"data/features_target.csv\", sep=\";\")"
   ]
  },
  {
   "cell_type": "code",
   "execution_count": 43,
   "id": "beginning-fault",
   "metadata": {},
   "outputs": [
    {
     "data": {
      "text/html": [
       "<div>\n",
       "<style scoped>\n",
       "    .dataframe tbody tr th:only-of-type {\n",
       "        vertical-align: middle;\n",
       "    }\n",
       "\n",
       "    .dataframe tbody tr th {\n",
       "        vertical-align: top;\n",
       "    }\n",
       "\n",
       "    .dataframe thead th {\n",
       "        text-align: right;\n",
       "    }\n",
       "</style>\n",
       "<table border=\"1\" class=\"dataframe\">\n",
       "  <thead>\n",
       "    <tr style=\"text-align: right;\">\n",
       "      <th></th>\n",
       "      <th>id</th>\n",
       "      <th>slope</th>\n",
       "      <th>cd_water</th>\n",
       "      <th>aspect</th>\n",
       "      <th>hill90</th>\n",
       "      <th>hill5</th>\n",
       "      <th>hill45</th>\n",
       "      <th>clc00</th>\n",
       "      <th>numpoints</th>\n",
       "      <th>target</th>\n",
       "    </tr>\n",
       "  </thead>\n",
       "  <tbody>\n",
       "    <tr>\n",
       "      <th>0</th>\n",
       "      <td>1</td>\n",
       "      <td>4.98010</td>\n",
       "      <td>0.256047</td>\n",
       "      <td>9</td>\n",
       "      <td>254</td>\n",
       "      <td>0</td>\n",
       "      <td>195</td>\n",
       "      <td>312</td>\n",
       "      <td>0</td>\n",
       "      <td>0</td>\n",
       "    </tr>\n",
       "    <tr>\n",
       "      <th>1</th>\n",
       "      <td>2</td>\n",
       "      <td>3.36810</td>\n",
       "      <td>0.296268</td>\n",
       "      <td>2</td>\n",
       "      <td>254</td>\n",
       "      <td>0</td>\n",
       "      <td>187</td>\n",
       "      <td>312</td>\n",
       "      <td>0</td>\n",
       "      <td>0</td>\n",
       "    </tr>\n",
       "    <tr>\n",
       "      <th>2</th>\n",
       "      <td>3</td>\n",
       "      <td>3.86523</td>\n",
       "      <td>0.374666</td>\n",
       "      <td>2</td>\n",
       "      <td>254</td>\n",
       "      <td>0</td>\n",
       "      <td>186</td>\n",
       "      <td>312</td>\n",
       "      <td>0</td>\n",
       "      <td>0</td>\n",
       "    </tr>\n",
       "    <tr>\n",
       "      <th>3</th>\n",
       "      <td>4</td>\n",
       "      <td>5.56061</td>\n",
       "      <td>0.471633</td>\n",
       "      <td>2</td>\n",
       "      <td>253</td>\n",
       "      <td>0</td>\n",
       "      <td>191</td>\n",
       "      <td>312</td>\n",
       "      <td>0</td>\n",
       "      <td>0</td>\n",
       "    </tr>\n",
       "    <tr>\n",
       "      <th>4</th>\n",
       "      <td>5</td>\n",
       "      <td>9.50320</td>\n",
       "      <td>0.589352</td>\n",
       "      <td>10</td>\n",
       "      <td>251</td>\n",
       "      <td>0</td>\n",
       "      <td>204</td>\n",
       "      <td>312</td>\n",
       "      <td>0</td>\n",
       "      <td>0</td>\n",
       "    </tr>\n",
       "    <tr>\n",
       "      <th>...</th>\n",
       "      <td>...</td>\n",
       "      <td>...</td>\n",
       "      <td>...</td>\n",
       "      <td>...</td>\n",
       "      <td>...</td>\n",
       "      <td>...</td>\n",
       "      <td>...</td>\n",
       "      <td>...</td>\n",
       "      <td>...</td>\n",
       "      <td>...</td>\n",
       "    </tr>\n",
       "    <tr>\n",
       "      <th>35250</th>\n",
       "      <td>35251</td>\n",
       "      <td>4.77809</td>\n",
       "      <td>0.000000</td>\n",
       "      <td>7</td>\n",
       "      <td>254</td>\n",
       "      <td>18</td>\n",
       "      <td>177</td>\n",
       "      <td>523</td>\n",
       "      <td>0</td>\n",
       "      <td>0</td>\n",
       "    </tr>\n",
       "    <tr>\n",
       "      <th>35251</th>\n",
       "      <td>35252</td>\n",
       "      <td>6.62570</td>\n",
       "      <td>0.000000</td>\n",
       "      <td>7</td>\n",
       "      <td>253</td>\n",
       "      <td>11</td>\n",
       "      <td>171</td>\n",
       "      <td>523</td>\n",
       "      <td>0</td>\n",
       "      <td>0</td>\n",
       "    </tr>\n",
       "    <tr>\n",
       "      <th>35252</th>\n",
       "      <td>35253</td>\n",
       "      <td>8.22308</td>\n",
       "      <td>0.000000</td>\n",
       "      <td>6</td>\n",
       "      <td>252</td>\n",
       "      <td>0</td>\n",
       "      <td>161</td>\n",
       "      <td>523</td>\n",
       "      <td>0</td>\n",
       "      <td>0</td>\n",
       "    </tr>\n",
       "    <tr>\n",
       "      <th>35253</th>\n",
       "      <td>35254</td>\n",
       "      <td>7.51513</td>\n",
       "      <td>0.000000</td>\n",
       "      <td>6</td>\n",
       "      <td>252</td>\n",
       "      <td>0</td>\n",
       "      <td>156</td>\n",
       "      <td>523</td>\n",
       "      <td>0</td>\n",
       "      <td>0</td>\n",
       "    </tr>\n",
       "    <tr>\n",
       "      <th>35254</th>\n",
       "      <td>35255</td>\n",
       "      <td>5.12828</td>\n",
       "      <td>0.000000</td>\n",
       "      <td>5</td>\n",
       "      <td>253</td>\n",
       "      <td>0</td>\n",
       "      <td>163</td>\n",
       "      <td>112</td>\n",
       "      <td>0</td>\n",
       "      <td>0</td>\n",
       "    </tr>\n",
       "  </tbody>\n",
       "</table>\n",
       "<p>35255 rows × 10 columns</p>\n",
       "</div>"
      ],
      "text/plain": [
       "          id    slope  cd_water  aspect  hill90  hill5  hill45  clc00  \\\n",
       "0          1  4.98010  0.256047       9     254      0     195    312   \n",
       "1          2  3.36810  0.296268       2     254      0     187    312   \n",
       "2          3  3.86523  0.374666       2     254      0     186    312   \n",
       "3          4  5.56061  0.471633       2     253      0     191    312   \n",
       "4          5  9.50320  0.589352      10     251      0     204    312   \n",
       "...      ...      ...       ...     ...     ...    ...     ...    ...   \n",
       "35250  35251  4.77809  0.000000       7     254     18     177    523   \n",
       "35251  35252  6.62570  0.000000       7     253     11     171    523   \n",
       "35252  35253  8.22308  0.000000       6     252      0     161    523   \n",
       "35253  35254  7.51513  0.000000       6     252      0     156    523   \n",
       "35254  35255  5.12828  0.000000       5     253      0     163    112   \n",
       "\n",
       "       numpoints  target  \n",
       "0              0       0  \n",
       "1              0       0  \n",
       "2              0       0  \n",
       "3              0       0  \n",
       "4              0       0  \n",
       "...          ...     ...  \n",
       "35250          0       0  \n",
       "35251          0       0  \n",
       "35252          0       0  \n",
       "35253          0       0  \n",
       "35254          0       0  \n",
       "\n",
       "[35255 rows x 10 columns]"
      ]
     },
     "execution_count": 43,
     "metadata": {},
     "output_type": "execute_result"
    }
   ],
   "source": [
    "df"
   ]
  },
  {
   "cell_type": "code",
   "execution_count": 3,
   "id": "processed-present",
   "metadata": {},
   "outputs": [],
   "source": [
    "cat_cols = [\"aspect\", \"clc00\"]\n",
    "num_cols = [\"slope\", \"cd_water\", \"hill5\", \"hill45\", \"hill90\"]"
   ]
  },
  {
   "cell_type": "markdown",
   "id": "nutritional-crime",
   "metadata": {},
   "source": [
    "## Data visualization, sources, caracteristics"
   ]
  },
  {
   "cell_type": "code",
   "execution_count": null,
   "id": "secure-aging",
   "metadata": {},
   "outputs": [],
   "source": []
  },
  {
   "cell_type": "markdown",
   "id": "primary-access",
   "metadata": {},
   "source": [
    "### EDA"
   ]
  },
  {
   "cell_type": "code",
   "execution_count": 4,
   "id": "informed-ownership",
   "metadata": {},
   "outputs": [
    {
     "data": {
      "text/plain": [
       "(35255, 10)"
      ]
     },
     "execution_count": 4,
     "metadata": {},
     "output_type": "execute_result"
    }
   ],
   "source": [
    "# numbre de lines et de colonnes\n",
    "df.shape"
   ]
  },
  {
   "cell_type": "markdown",
   "id": "radical-paint",
   "metadata": {},
   "source": [
    "On possède de 35255 lines et 10 colonnes. Donc 352550 pixeles au totale"
   ]
  },
  {
   "cell_type": "code",
   "execution_count": 8,
   "id": "headed-advertising",
   "metadata": {
    "scrolled": true
   },
   "outputs": [
    {
     "data": {
      "text/plain": [
       "id           0\n",
       "slope        0\n",
       "cd_water     0\n",
       "aspect       0\n",
       "hill90       0\n",
       "hill5        0\n",
       "hill45       0\n",
       "clc00        0\n",
       "numpoints    0\n",
       "target       0\n",
       "dtype: int64"
      ]
     },
     "execution_count": 8,
     "metadata": {},
     "output_type": "execute_result"
    }
   ],
   "source": [
    "# hopefuly we haven't any nan values\n",
    "df.isna().sum()"
   ]
  },
  {
   "cell_type": "code",
   "execution_count": 6,
   "id": "sticky-bobby",
   "metadata": {},
   "outputs": [],
   "source": [
    "from matplotlib import pyplot as plt"
   ]
  },
  {
   "cell_type": "code",
   "execution_count": 7,
   "id": "invalid-charity",
   "metadata": {},
   "outputs": [
    {
     "data": {
      "image/png": "[encoded data removed]",
      "text/plain": [
       "<Figure size 1080x720 with 5 Axes>"
      ]
     },
     "metadata": {
      "needs_background": "light"
     },
     "output_type": "display_data"
    }
   ],
   "source": [
    "# распределение данных. гистограммы\n",
    "\n",
    "plt.figure(figsize=(15,10));\n",
    "\n",
    "plt.subplot(3, 3, 1)\n",
    "fig = df.slope.hist(bins=10)\n",
    "fig.set_xlabel('slope value')\n",
    "fig.set_ylabel('Number of pixels')\n",
    "\n",
    "plt.subplot(3, 3, 2)\n",
    "fig = df.cd_water.hist(bins=10)\n",
    "fig.set_xlabel('Distance to the nearest water source in hours')\n",
    "fig.set_ylabel('Number of pixels')\n",
    "\n",
    "plt.subplot(3, 3, 3)\n",
    "fig = df.hill5.hist(bins=10)\n",
    "fig.set_xlabel('hillshade, altitude: 5°, quelque minutes avant le lever du soleil')\n",
    "fig.set_ylabel('Number of pixels')\n",
    "\n",
    "plt.subplot(3, 3, 4)\n",
    "fig = df.hill45.hist(bins=10)\n",
    "fig.set_xlabel('hillshade, altitude: 45°')\n",
    "fig.set_ylabel('Number of pixels')\n",
    "\n",
    "plt.subplot(3, 3, 5)\n",
    "fig = df.hill90.hist(bins=10)\n",
    "fig.set_xlabel('hillshade, altitude: 90°, noon')\n",
    "fig.set_ylabel('Number of pixels');"
   ]
  },
  {
   "cell_type": "code",
   "execution_count": 49,
   "id": "judicial-appraisal",
   "metadata": {},
   "outputs": [
    {
     "data": {
      "image/png": "[encoded data removed]",
      "text/plain": [
       "<Figure size 432x288 with 1 Axes>"
      ]
     },
     "metadata": {},
     "output_type": "display_data"
    }
   ],
   "source": [
    "# круговые диаграммы\n",
    "asp = pd.DataFrame(df.aspect.value_counts())\n",
    "asp.plot.pie(subplots=True, autopct='%1.1f%%', radius=2);\n",
    "plt.legend(df.aspect, bbox_to_anchor=(1.2, 0.2), loc=\"lower right\", \n",
    "                          bbox_transform=plt.gcf().transFigure);"
   ]
  },
  {
   "cell_type": "code",
   "execution_count": 50,
   "id": "drawn-statistics",
   "metadata": {},
   "outputs": [],
   "source": [
    "# https://matplotlib.org/stable/gallery/lines_bars_and_markers/categorical_variables.html/"
   ]
  },
  {
   "cell_type": "code",
   "execution_count": 51,
   "id": "optional-methodology",
   "metadata": {},
   "outputs": [],
   "source": [
    "import seaborn as sns"
   ]
  },
  {
   "cell_type": "code",
   "execution_count": 52,
   "id": "instructional-beatles",
   "metadata": {
    "scrolled": false
   },
   "outputs": [
    {
     "data": {
      "image/png": "[encoded data removed]",
      "text/plain": [
       "<Figure size 1080x360 with 1 Axes>"
      ]
     },
     "metadata": {
      "needs_background": "light"
     },
     "output_type": "display_data"
    }
   ],
   "source": [
    "sns.catplot(x=\"clc00\", kind=\"count\", palette=\"ch:.25\", height=5, aspect=15/5, data=df);"
   ]
  },
  {
   "cell_type": "code",
   "execution_count": 53,
   "id": "simplified-tyler",
   "metadata": {},
   "outputs": [],
   "source": [
    "# description/explanation/observations"
   ]
  },
  {
   "cell_type": "markdown",
   "id": "behind-classification",
   "metadata": {},
   "source": [
    "### Type d'occupation du sol\n",
    "\n",
    "- types en pourcentage\n",
    "- carte"
   ]
  },
  {
   "cell_type": "markdown",
   "id": "motivated-marketing",
   "metadata": {},
   "source": [
    "# Il faut regarder le target class après avoir divisée les donnée en train et test sets\n",
    "## Target feature\n",
    "#### Распределение целевой переменной / баланс классов"
   ]
  },
  {
   "cell_type": "code",
   "execution_count": 54,
   "id": "global-regulation",
   "metadata": {},
   "outputs": [
    {
     "data": {
      "image/png": "[encoded data removed]",
      "text/plain": [
       "<Figure size 432x288 with 1 Axes>"
      ]
     },
     "metadata": {
      "needs_background": "light"
     },
     "output_type": "display_data"
    }
   ],
   "source": [
    "ax = sns.countplot(x=\"target\", data=df, palette=\"Set2\")\n",
    "plt.show()"
   ]
  },
  {
   "cell_type": "code",
   "execution_count": 55,
   "id": "binary-minutes",
   "metadata": {},
   "outputs": [
    {
     "data": {
      "text/plain": [
       "0    95.529712\n",
       "1     4.470288\n",
       "Name: target, dtype: float64"
      ]
     },
     "execution_count": 55,
     "metadata": {},
     "output_type": "execute_result"
    }
   ],
   "source": [
    "# en pourcentage\n",
    "df['target'].value_counts()/len(df) * 100"
   ]
  },
  {
   "cell_type": "markdown",
   "id": "norwegian-wallet",
   "metadata": {},
   "source": [
    "### Выводы:\n",
    "- Il ya deux target classes: \n",
    "  - 0: abscence (95.5%), \n",
    "  - 1: presence (4.5%). \n",
    "- Nous avons des classes inbalancées"
   ]
  },
  {
   "cell_type": "markdown",
   "id": "canadian-berlin",
   "metadata": {},
   "source": [
    "### Correlation matrix"
   ]
  },
  {
   "cell_type": "code",
   "execution_count": 56,
   "id": "rough-empty",
   "metadata": {},
   "outputs": [],
   "source": [
    "# для correlation Heatmap\n",
    "import numpy as np\n",
    "import matplotlib.pyplot as plt"
   ]
  },
  {
   "cell_type": "code",
   "execution_count": 57,
   "id": "tracked-friend",
   "metadata": {},
   "outputs": [],
   "source": [
    "# figsize=(7, 20)"
   ]
  },
  {
   "cell_type": "code",
   "execution_count": 58,
   "id": "legendary-flour",
   "metadata": {},
   "outputs": [
    {
     "data": {
      "image/png": "[encoded data removed]",
      "text/plain": [
       "<Figure size 1080x1080 with 2 Axes>"
      ]
     },
     "metadata": {
      "needs_background": "light"
     },
     "output_type": "display_data"
    }
   ],
   "source": [
    "# отрисуем correlation heatmap\n",
    "corr = df[num_cols].corr()\n",
    "\n",
    "mask = np.triu(np.ones_like(corr, dtype=bool))\n",
    "f, ax = plt.subplots(figsize=(15, 15))\n",
    "cmap = sns.diverging_palette(250, 25, as_cmap=True)\n",
    "sns.heatmap(corr, mask=mask, cmap=cmap, vmax=None, \n",
    "            center=0,square=True, annot=True, \n",
    "            linewidths=.5, cbar_kws={\"shrink\": .9});"
   ]
  },
  {
   "cell_type": "markdown",
   "id": "worst-dispute",
   "metadata": {},
   "source": [
    "### Split dataset"
   ]
  },
  {
   "cell_type": "code",
   "execution_count": 59,
   "id": "external-melbourne",
   "metadata": {},
   "outputs": [],
   "source": [
    "from sklearn.model_selection import train_test_split"
   ]
  },
  {
   "cell_type": "code",
   "execution_count": 60,
   "id": "partial-automation",
   "metadata": {},
   "outputs": [
    {
     "data": {
      "text/html": [
       "<div>\n",
       "<style scoped>\n",
       "    .dataframe tbody tr th:only-of-type {\n",
       "        vertical-align: middle;\n",
       "    }\n",
       "\n",
       "    .dataframe tbody tr th {\n",
       "        vertical-align: top;\n",
       "    }\n",
       "\n",
       "    .dataframe thead th {\n",
       "        text-align: right;\n",
       "    }\n",
       "</style>\n",
       "<table border=\"1\" class=\"dataframe\">\n",
       "  <thead>\n",
       "    <tr style=\"text-align: right;\">\n",
       "      <th></th>\n",
       "      <th>id</th>\n",
       "      <th>slope</th>\n",
       "      <th>cd_water</th>\n",
       "      <th>aspect</th>\n",
       "      <th>hill90</th>\n",
       "      <th>hill5</th>\n",
       "      <th>hill45</th>\n",
       "      <th>clc00</th>\n",
       "      <th>numpoints</th>\n",
       "      <th>target</th>\n",
       "    </tr>\n",
       "  </thead>\n",
       "  <tbody>\n",
       "    <tr>\n",
       "      <th>0</th>\n",
       "      <td>1</td>\n",
       "      <td>4.98010</td>\n",
       "      <td>0.256047</td>\n",
       "      <td>9</td>\n",
       "      <td>254</td>\n",
       "      <td>0</td>\n",
       "      <td>195</td>\n",
       "      <td>312</td>\n",
       "      <td>0</td>\n",
       "      <td>0</td>\n",
       "    </tr>\n",
       "    <tr>\n",
       "      <th>1</th>\n",
       "      <td>2</td>\n",
       "      <td>3.36810</td>\n",
       "      <td>0.296268</td>\n",
       "      <td>2</td>\n",
       "      <td>254</td>\n",
       "      <td>0</td>\n",
       "      <td>187</td>\n",
       "      <td>312</td>\n",
       "      <td>0</td>\n",
       "      <td>0</td>\n",
       "    </tr>\n",
       "    <tr>\n",
       "      <th>2</th>\n",
       "      <td>3</td>\n",
       "      <td>3.86523</td>\n",
       "      <td>0.374666</td>\n",
       "      <td>2</td>\n",
       "      <td>254</td>\n",
       "      <td>0</td>\n",
       "      <td>186</td>\n",
       "      <td>312</td>\n",
       "      <td>0</td>\n",
       "      <td>0</td>\n",
       "    </tr>\n",
       "    <tr>\n",
       "      <th>3</th>\n",
       "      <td>4</td>\n",
       "      <td>5.56061</td>\n",
       "      <td>0.471633</td>\n",
       "      <td>2</td>\n",
       "      <td>253</td>\n",
       "      <td>0</td>\n",
       "      <td>191</td>\n",
       "      <td>312</td>\n",
       "      <td>0</td>\n",
       "      <td>0</td>\n",
       "    </tr>\n",
       "    <tr>\n",
       "      <th>4</th>\n",
       "      <td>5</td>\n",
       "      <td>9.50320</td>\n",
       "      <td>0.589352</td>\n",
       "      <td>10</td>\n",
       "      <td>251</td>\n",
       "      <td>0</td>\n",
       "      <td>204</td>\n",
       "      <td>312</td>\n",
       "      <td>0</td>\n",
       "      <td>0</td>\n",
       "    </tr>\n",
       "  </tbody>\n",
       "</table>\n",
       "</div>"
      ],
      "text/plain": [
       "   id    slope  cd_water  aspect  hill90  hill5  hill45  clc00  numpoints  \\\n",
       "0   1  4.98010  0.256047       9     254      0     195    312          0   \n",
       "1   2  3.36810  0.296268       2     254      0     187    312          0   \n",
       "2   3  3.86523  0.374666       2     254      0     186    312          0   \n",
       "3   4  5.56061  0.471633       2     253      0     191    312          0   \n",
       "4   5  9.50320  0.589352      10     251      0     204    312          0   \n",
       "\n",
       "   target  \n",
       "0       0  \n",
       "1       0  \n",
       "2       0  \n",
       "3       0  \n",
       "4       0  "
      ]
     },
     "execution_count": 60,
     "metadata": {},
     "output_type": "execute_result"
    }
   ],
   "source": [
    "df.head()"
   ]
  },
  {
   "cell_type": "code",
   "execution_count": 61,
   "id": "acute-preview",
   "metadata": {},
   "outputs": [],
   "source": [
    "X = df.drop([\"id\", \"numpoints\", \"target\"], axis=1)\n",
    "y = df.target"
   ]
  },
  {
   "cell_type": "code",
   "execution_count": null,
   "id": "cultural-order",
   "metadata": {},
   "outputs": [],
   "source": [
    "X_train, X_test, y_train, y_test = train_test_split(X, y, test_size=.30)\n",
    "X_train.shape, X_test.shape\n"
   ]
  },
  {
   "cell_type": "code",
   "execution_count": null,
   "id": "fifth-decrease",
   "metadata": {},
   "outputs": [],
   "source": [
    "X.to_csv(index=False)"
   ]
  },
  {
   "cell_type": "code",
   "execution_count": 118,
   "id": "recognized-philip",
   "metadata": {},
   "outputs": [],
   "source": [
    "# --------------------"
   ]
  },
  {
   "cell_type": "code",
   "execution_count": 149,
   "id": "coral-trial",
   "metadata": {},
   "outputs": [
    {
     "name": "stdout",
     "output_type": "stream",
     "text": [
      "Количество признаков в train: 47\n",
      "Количество признаков в valid: 47\n",
      "{411}\n",
      "{421}\n"
     ]
    }
   ],
   "source": [
    "X_train, X_test, y_train, y_test = train_test_split(X, y, test_size=.30)\n",
    "X_train.shape, X_test.shape\n",
    "\n",
    "# encode categorical features in train set\n",
    "X_train = pd.concat([X_train[num_cols], \n",
    "                    pd.get_dummies(X_train.aspect), \n",
    "                    pd.get_dummies(X_train.clc00)], axis=1)\n",
    "\n",
    "X_train.shape\n",
    "\n",
    "# encode categorical features in test set\n",
    "X_test = pd.concat([X_test[num_cols], \n",
    "                    pd.get_dummies(X_test.aspect), \n",
    "                    pd.get_dummies(X_test.clc00)], axis=1)\n",
    "\n",
    "X_test.shape\n",
    "\n",
    "# убедимся, что в обеих выборках оказалось одинакове количество признаков\n",
    "print('Количество признаков в train:', len(X_train.columns))\n",
    "print('Количество признаков в valid:', len(X_test.columns))\n",
    "# для случая, если это не так\n",
    "print(set(X_train.columns) - set(X_test.columns))\n",
    "print(set(X_test.columns) - set(X_train.columns))"
   ]
  },
  {
   "cell_type": "code",
   "execution_count": 120,
   "id": "flying-david",
   "metadata": {},
   "outputs": [],
   "source": [
    "# --------------------"
   ]
  },
  {
   "cell_type": "code",
   "execution_count": 115,
   "id": "differential-printer",
   "metadata": {},
   "outputs": [
    {
     "data": {
      "text/plain": [
       "((24678, 7), (10577, 7))"
      ]
     },
     "execution_count": 115,
     "metadata": {},
     "output_type": "execute_result"
    }
   ],
   "source": [
    "X_train, X_test, y_train, y_test = train_test_split(X, y, test_size=.30)\n",
    "X_train.shape, X_test.shape"
   ]
  },
  {
   "cell_type": "markdown",
   "id": "adapted-consortium",
   "metadata": {},
   "source": [
    "In order to not make the data leaks, we going to make all the data ingeneering after spliting the dataset"
   ]
  },
  {
   "cell_type": "markdown",
   "id": "official-concert",
   "metadata": {},
   "source": [
    "### Encode categorical features"
   ]
  },
  {
   "cell_type": "code",
   "execution_count": 116,
   "id": "moral-berry",
   "metadata": {},
   "outputs": [
    {
     "data": {
      "text/plain": [
       "(24678, 48)"
      ]
     },
     "execution_count": 116,
     "metadata": {},
     "output_type": "execute_result"
    }
   ],
   "source": [
    "# encode categorical features in train set\n",
    "X_train = pd.concat([X_train[num_cols], \n",
    "                    pd.get_dummies(X_train.aspect), \n",
    "                    pd.get_dummies(X_train.clc00)], axis=1)\n",
    "\n",
    "X_train.shape"
   ]
  },
  {
   "cell_type": "code",
   "execution_count": 117,
   "id": "excessive-henry",
   "metadata": {},
   "outputs": [
    {
     "data": {
      "text/plain": [
       "(10577, 45)"
      ]
     },
     "execution_count": 117,
     "metadata": {},
     "output_type": "execute_result"
    }
   ],
   "source": [
    "# encode categorical features in test set\n",
    "X_test = pd.concat([X_test[num_cols], \n",
    "                    pd.get_dummies(X_test.aspect), \n",
    "                    pd.get_dummies(X_test.clc00)], axis=1)\n",
    "\n",
    "X_test.shape"
   ]
  },
  {
   "cell_type": "code",
   "execution_count": 108,
   "id": "blank-bikini",
   "metadata": {},
   "outputs": [
    {
     "name": "stdout",
     "output_type": "stream",
     "text": [
      "Количество признаков в train: 47\n",
      "Количество признаков в valid: 47\n",
      "{421}\n",
      "{411}\n"
     ]
    }
   ],
   "source": [
    "# убедимся, что в обеих выборках оказалось одинакове количество признаков\n",
    "print('Количество признаков в train:', len(X_train.columns))\n",
    "print('Количество признаков в valid:', len(X_test.columns))\n",
    "# для случая, если это не так\n",
    "print(set(X_train.columns) - set(X_test.columns))\n",
    "print(set(X_test.columns) - set(X_train.columns))"
   ]
  },
  {
   "cell_type": "code",
   "execution_count": 159,
   "id": "removed-stockholm",
   "metadata": {
    "collapsed": true
   },
   "outputs": [
    {
     "data": {
      "text/html": [
       "<div>\n",
       "<style scoped>\n",
       "    .dataframe tbody tr th:only-of-type {\n",
       "        vertical-align: middle;\n",
       "    }\n",
       "\n",
       "    .dataframe tbody tr th {\n",
       "        vertical-align: top;\n",
       "    }\n",
       "\n",
       "    .dataframe thead th {\n",
       "        text-align: right;\n",
       "    }\n",
       "</style>\n",
       "<table border=\"1\" class=\"dataframe\">\n",
       "  <thead>\n",
       "    <tr style=\"text-align: right;\">\n",
       "      <th></th>\n",
       "      <th>slope</th>\n",
       "      <th>cd_water</th>\n",
       "      <th>hill5</th>\n",
       "      <th>hill45</th>\n",
       "      <th>hill90</th>\n",
       "      <th>1</th>\n",
       "      <th>2</th>\n",
       "      <th>3</th>\n",
       "      <th>4</th>\n",
       "      <th>5</th>\n",
       "      <th>...</th>\n",
       "      <th>322</th>\n",
       "      <th>323</th>\n",
       "      <th>324</th>\n",
       "      <th>331</th>\n",
       "      <th>332</th>\n",
       "      <th>333</th>\n",
       "      <th>334</th>\n",
       "      <th>512</th>\n",
       "      <th>521</th>\n",
       "      <th>523</th>\n",
       "    </tr>\n",
       "  </thead>\n",
       "  <tbody>\n",
       "    <tr>\n",
       "      <th>16353</th>\n",
       "      <td>12.17550</td>\n",
       "      <td>0.399119</td>\n",
       "      <td>0</td>\n",
       "      <td>142</td>\n",
       "      <td>249</td>\n",
       "      <td>0</td>\n",
       "      <td>0</td>\n",
       "      <td>0</td>\n",
       "      <td>1</td>\n",
       "      <td>0</td>\n",
       "      <td>...</td>\n",
       "      <td>0</td>\n",
       "      <td>1</td>\n",
       "      <td>0</td>\n",
       "      <td>0</td>\n",
       "      <td>0</td>\n",
       "      <td>0</td>\n",
       "      <td>0</td>\n",
       "      <td>0</td>\n",
       "      <td>0</td>\n",
       "      <td>0</td>\n",
       "    </tr>\n",
       "    <tr>\n",
       "      <th>34991</th>\n",
       "      <td>1.49100</td>\n",
       "      <td>0.097312</td>\n",
       "      <td>25</td>\n",
       "      <td>182</td>\n",
       "      <td>254</td>\n",
       "      <td>0</td>\n",
       "      <td>1</td>\n",
       "      <td>0</td>\n",
       "      <td>0</td>\n",
       "      <td>0</td>\n",
       "      <td>...</td>\n",
       "      <td>0</td>\n",
       "      <td>1</td>\n",
       "      <td>0</td>\n",
       "      <td>0</td>\n",
       "      <td>0</td>\n",
       "      <td>0</td>\n",
       "      <td>0</td>\n",
       "      <td>0</td>\n",
       "      <td>0</td>\n",
       "      <td>0</td>\n",
       "    </tr>\n",
       "    <tr>\n",
       "      <th>20364</th>\n",
       "      <td>1.40392</td>\n",
       "      <td>0.128824</td>\n",
       "      <td>23</td>\n",
       "      <td>181</td>\n",
       "      <td>254</td>\n",
       "      <td>0</td>\n",
       "      <td>0</td>\n",
       "      <td>0</td>\n",
       "      <td>0</td>\n",
       "      <td>0</td>\n",
       "      <td>...</td>\n",
       "      <td>0</td>\n",
       "      <td>0</td>\n",
       "      <td>0</td>\n",
       "      <td>0</td>\n",
       "      <td>0</td>\n",
       "      <td>0</td>\n",
       "      <td>0</td>\n",
       "      <td>0</td>\n",
       "      <td>0</td>\n",
       "      <td>0</td>\n",
       "    </tr>\n",
       "    <tr>\n",
       "      <th>24331</th>\n",
       "      <td>2.38758</td>\n",
       "      <td>0.072972</td>\n",
       "      <td>12</td>\n",
       "      <td>172</td>\n",
       "      <td>254</td>\n",
       "      <td>0</td>\n",
       "      <td>0</td>\n",
       "      <td>0</td>\n",
       "      <td>0</td>\n",
       "      <td>1</td>\n",
       "      <td>...</td>\n",
       "      <td>0</td>\n",
       "      <td>0</td>\n",
       "      <td>0</td>\n",
       "      <td>0</td>\n",
       "      <td>0</td>\n",
       "      <td>0</td>\n",
       "      <td>0</td>\n",
       "      <td>0</td>\n",
       "      <td>0</td>\n",
       "      <td>0</td>\n",
       "    </tr>\n",
       "    <tr>\n",
       "      <th>6212</th>\n",
       "      <td>9.60465</td>\n",
       "      <td>0.177614</td>\n",
       "      <td>0</td>\n",
       "      <td>167</td>\n",
       "      <td>251</td>\n",
       "      <td>0</td>\n",
       "      <td>0</td>\n",
       "      <td>0</td>\n",
       "      <td>0</td>\n",
       "      <td>0</td>\n",
       "      <td>...</td>\n",
       "      <td>0</td>\n",
       "      <td>0</td>\n",
       "      <td>0</td>\n",
       "      <td>0</td>\n",
       "      <td>0</td>\n",
       "      <td>0</td>\n",
       "      <td>0</td>\n",
       "      <td>0</td>\n",
       "      <td>0</td>\n",
       "      <td>0</td>\n",
       "    </tr>\n",
       "    <tr>\n",
       "      <th>...</th>\n",
       "      <td>...</td>\n",
       "      <td>...</td>\n",
       "      <td>...</td>\n",
       "      <td>...</td>\n",
       "      <td>...</td>\n",
       "      <td>...</td>\n",
       "      <td>...</td>\n",
       "      <td>...</td>\n",
       "      <td>...</td>\n",
       "      <td>...</td>\n",
       "      <td>...</td>\n",
       "      <td>...</td>\n",
       "      <td>...</td>\n",
       "      <td>...</td>\n",
       "      <td>...</td>\n",
       "      <td>...</td>\n",
       "      <td>...</td>\n",
       "      <td>...</td>\n",
       "      <td>...</td>\n",
       "      <td>...</td>\n",
       "      <td>...</td>\n",
       "    </tr>\n",
       "    <tr>\n",
       "      <th>26402</th>\n",
       "      <td>5.51244</td>\n",
       "      <td>0.195880</td>\n",
       "      <td>0</td>\n",
       "      <td>161</td>\n",
       "      <td>253</td>\n",
       "      <td>0</td>\n",
       "      <td>0</td>\n",
       "      <td>0</td>\n",
       "      <td>0</td>\n",
       "      <td>1</td>\n",
       "      <td>...</td>\n",
       "      <td>0</td>\n",
       "      <td>0</td>\n",
       "      <td>0</td>\n",
       "      <td>0</td>\n",
       "      <td>0</td>\n",
       "      <td>0</td>\n",
       "      <td>0</td>\n",
       "      <td>0</td>\n",
       "      <td>0</td>\n",
       "      <td>0</td>\n",
       "    </tr>\n",
       "    <tr>\n",
       "      <th>16554</th>\n",
       "      <td>1.55197</td>\n",
       "      <td>0.066846</td>\n",
       "      <td>15</td>\n",
       "      <td>175</td>\n",
       "      <td>254</td>\n",
       "      <td>0</td>\n",
       "      <td>0</td>\n",
       "      <td>0</td>\n",
       "      <td>0</td>\n",
       "      <td>1</td>\n",
       "      <td>...</td>\n",
       "      <td>0</td>\n",
       "      <td>0</td>\n",
       "      <td>0</td>\n",
       "      <td>0</td>\n",
       "      <td>0</td>\n",
       "      <td>0</td>\n",
       "      <td>0</td>\n",
       "      <td>0</td>\n",
       "      <td>0</td>\n",
       "      <td>0</td>\n",
       "    </tr>\n",
       "    <tr>\n",
       "      <th>4823</th>\n",
       "      <td>6.92818</td>\n",
       "      <td>0.769416</td>\n",
       "      <td>0</td>\n",
       "      <td>159</td>\n",
       "      <td>253</td>\n",
       "      <td>0</td>\n",
       "      <td>0</td>\n",
       "      <td>0</td>\n",
       "      <td>1</td>\n",
       "      <td>0</td>\n",
       "      <td>...</td>\n",
       "      <td>0</td>\n",
       "      <td>0</td>\n",
       "      <td>0</td>\n",
       "      <td>0</td>\n",
       "      <td>0</td>\n",
       "      <td>0</td>\n",
       "      <td>0</td>\n",
       "      <td>0</td>\n",
       "      <td>0</td>\n",
       "      <td>0</td>\n",
       "    </tr>\n",
       "    <tr>\n",
       "      <th>30513</th>\n",
       "      <td>6.85376</td>\n",
       "      <td>0.145873</td>\n",
       "      <td>30</td>\n",
       "      <td>184</td>\n",
       "      <td>253</td>\n",
       "      <td>0</td>\n",
       "      <td>0</td>\n",
       "      <td>1</td>\n",
       "      <td>0</td>\n",
       "      <td>0</td>\n",
       "      <td>...</td>\n",
       "      <td>0</td>\n",
       "      <td>0</td>\n",
       "      <td>0</td>\n",
       "      <td>0</td>\n",
       "      <td>0</td>\n",
       "      <td>0</td>\n",
       "      <td>0</td>\n",
       "      <td>0</td>\n",
       "      <td>0</td>\n",
       "      <td>0</td>\n",
       "    </tr>\n",
       "    <tr>\n",
       "      <th>17898</th>\n",
       "      <td>2.26056</td>\n",
       "      <td>0.000000</td>\n",
       "      <td>30</td>\n",
       "      <td>185</td>\n",
       "      <td>254</td>\n",
       "      <td>0</td>\n",
       "      <td>0</td>\n",
       "      <td>0</td>\n",
       "      <td>0</td>\n",
       "      <td>0</td>\n",
       "      <td>...</td>\n",
       "      <td>0</td>\n",
       "      <td>0</td>\n",
       "      <td>0</td>\n",
       "      <td>0</td>\n",
       "      <td>0</td>\n",
       "      <td>0</td>\n",
       "      <td>0</td>\n",
       "      <td>0</td>\n",
       "      <td>0</td>\n",
       "      <td>0</td>\n",
       "    </tr>\n",
       "  </tbody>\n",
       "</table>\n",
       "<p>10577 rows × 46 columns</p>\n",
       "</div>"
      ],
      "text/plain": [
       "          slope  cd_water  hill5  hill45  hill90  1  2  3  4  5  ...  322  \\\n",
       "16353  12.17550  0.399119      0     142     249  0  0  0  1  0  ...    0   \n",
       "34991   1.49100  0.097312     25     182     254  0  1  0  0  0  ...    0   \n",
       "20364   1.40392  0.128824     23     181     254  0  0  0  0  0  ...    0   \n",
       "24331   2.38758  0.072972     12     172     254  0  0  0  0  1  ...    0   \n",
       "6212    9.60465  0.177614      0     167     251  0  0  0  0  0  ...    0   \n",
       "...         ...       ...    ...     ...     ... .. .. .. .. ..  ...  ...   \n",
       "26402   5.51244  0.195880      0     161     253  0  0  0  0  1  ...    0   \n",
       "16554   1.55197  0.066846     15     175     254  0  0  0  0  1  ...    0   \n",
       "4823    6.92818  0.769416      0     159     253  0  0  0  1  0  ...    0   \n",
       "30513   6.85376  0.145873     30     184     253  0  0  1  0  0  ...    0   \n",
       "17898   2.26056  0.000000     30     185     254  0  0  0  0  0  ...    0   \n",
       "\n",
       "       323  324  331  332  333  334  512  521  523  \n",
       "16353    1    0    0    0    0    0    0    0    0  \n",
       "34991    1    0    0    0    0    0    0    0    0  \n",
       "20364    0    0    0    0    0    0    0    0    0  \n",
       "24331    0    0    0    0    0    0    0    0    0  \n",
       "6212     0    0    0    0    0    0    0    0    0  \n",
       "...    ...  ...  ...  ...  ...  ...  ...  ...  ...  \n",
       "26402    0    0    0    0    0    0    0    0    0  \n",
       "16554    0    0    0    0    0    0    0    0    0  \n",
       "4823     0    0    0    0    0    0    0    0    0  \n",
       "30513    0    0    0    0    0    0    0    0    0  \n",
       "17898    0    0    0    0    0    0    0    0    0  \n",
       "\n",
       "[10577 rows x 46 columns]"
      ]
     },
     "execution_count": 159,
     "metadata": {},
     "output_type": "execute_result"
    }
   ],
   "source": [
    "X_train.drop([411], axis=1)\n",
    "X_test.drop([421], axis=1)"
   ]
  },
  {
   "cell_type": "markdown",
   "id": "caring-portal",
   "metadata": {},
   "source": [
    "Now we have 3 datasets to work with:\n",
    "- train (19830 objects (rows))\n",
    "- valid (6611 objects)\n",
    "- test (8814 objects)"
   ]
  },
  {
   "cell_type": "markdown",
   "id": "selective-natural",
   "metadata": {},
   "source": [
    "### Random Forest"
   ]
  },
  {
   "cell_type": "markdown",
   "id": "skilled-greensboro",
   "metadata": {},
   "source": [
    "### Random Forest"
   ]
  },
  {
   "cell_type": "code",
   "execution_count": 162,
   "id": "genuine-mentor",
   "metadata": {},
   "outputs": [],
   "source": [
    "from sklearn.ensemble import RandomForestClassifier\n",
    "from sklearn.model_selection import GridSearchCV, RandomizedSearchCV\n",
    "from sklearn.metrics import roc_auc_score"
   ]
  },
  {
   "cell_type": "code",
   "execution_count": 168,
   "id": "southern-hawaiian",
   "metadata": {},
   "outputs": [],
   "source": [
    "# learn model. Let's create a classifier (model) random forest (cls_rf)\n",
    "# default values?\n",
    "clf_rf = RandomForestClassifier(n_estimators=200,\n",
    "                                criterion='entropy',\n",
    "                                max_depth=15,\n",
    "                                random_state=42)\n",
    "\n",
    "clf_rf1 = clf_rf.fit(X_train, y_train)"
   ]
  },
  {
   "cell_type": "code",
   "execution_count": 169,
   "id": "suburban-printer",
   "metadata": {},
   "outputs": [
    {
     "name": "stdout",
     "output_type": "stream",
     "text": [
      "ROC-AUC для обучающей выборки:     0.9819728002890791\n",
      "ROC-AUC для валидационной выборки: 0.6195884060868989\n"
     ]
    }
   ],
   "source": [
    "# predictions\n",
    "print('ROC-AUC для обучающей выборки:    ', roc_auc_score(y_train, clf_rf1.predict_proba(X_train)[:,1]))\n",
    "print('ROC-AUC для валидационной выборки:',  roc_auc_score(y_test, clf_rf1.predict_proba(X_test)[:,1]))"
   ]
  },
  {
   "cell_type": "code",
   "execution_count": null,
   "id": "english-seller",
   "metadata": {},
   "outputs": [],
   "source": [
    "# RandomizedSearchCV"
   ]
  },
  {
   "cell_type": "code",
   "execution_count": 175,
   "id": "educated-respondent",
   "metadata": {
    "scrolled": true
   },
   "outputs": [
    {
     "data": {
      "text/plain": [
       "{'max_depth': 20,\n",
       " 'min_samples_leaf': 3,\n",
       " 'min_samples_split': 6,\n",
       " 'n_estimators': 200}"
      ]
     },
     "execution_count": 175,
     "metadata": {},
     "output_type": "execute_result"
    }
   ],
   "source": [
    "# GridSearchCV based on data obtained in RandomizedSearchCV\n",
    "\n",
    "clf_rf = RandomForestClassifier(random_state=42)\n",
    "\n",
    "params_rf = {'max_depth': [20, 26],\n",
    "             'min_samples_split': [6, 7],\n",
    "             'min_samples_leaf': [3, 5],\n",
    "             'n_estimators':[200, 350, 600]}\n",
    "\n",
    "search_rf_grid = GridSearchCV(clf_rf, params_rf, \n",
    "                                cv=5, n_jobs=-1)\n",
    "\n",
    "search_rf_grid.fit(X_train, y_train)\n",
    "search_rf_grid.best_params_"
   ]
  },
  {
   "cell_type": "code",
   "execution_count": 176,
   "id": "mineral-fairy",
   "metadata": {},
   "outputs": [
    {
     "name": "stdout",
     "output_type": "stream",
     "text": [
      "ROC-AUC для обучающей выборки:     0.9751290664807163\n",
      "ROC-AUC для валидационной выборки: 0.616873292287433\n"
     ]
    }
   ],
   "source": [
    "# predictions\n",
    "print('ROC-AUC для обучающей выборки:    ', roc_auc_score(y_train, search_rf_grid.predict_proba(X_train)[:,1]))\n",
    "print('ROC-AUC для валидационной выборки:', roc_auc_score(y_test, search_rf_grid.predict_proba(X_test)[:,1]))"
   ]
  },
  {
   "cell_type": "code",
   "execution_count": 178,
   "id": "czech-corpus",
   "metadata": {},
   "outputs": [
    {
     "data": {
      "text/plain": [
       "RandomForestClassifier(criterion='entropy', max_depth=5, min_samples_split=4,\n",
       "                       n_estimators=800, random_state=42)"
      ]
     },
     "execution_count": 178,
     "metadata": {},
     "output_type": "execute_result"
    }
   ],
   "source": [
    "best_rf = RandomForestClassifier(n_estimators=800,\n",
    "                                 criterion='entropy',\n",
    "                                 max_depth=5,\n",
    "                                 min_samples_split=4,  \n",
    "                                 min_samples_leaf=1, \n",
    "                                 random_state=42)\n",
    "\n",
    "best_rf.fit(X_train, y_train)"
   ]
  },
  {
   "cell_type": "code",
   "execution_count": 179,
   "id": "younger-discretion",
   "metadata": {},
   "outputs": [
    {
     "name": "stdout",
     "output_type": "stream",
     "text": [
      "ROC-AUC для обучающей выборки:     0.7166262637876225\n",
      "ROC-AUC для тестовой выборки:      0.6263397676407525\n"
     ]
    }
   ],
   "source": [
    "# predictions\n",
    "y_pred = best_rf.predict_proba(X_test)[:,1]\n",
    "# y_true is y_test\n",
    "\n",
    "# score\n",
    "print('ROC-AUC для обучающей выборки:    ', roc_auc_score(y_train, best_rf.predict_proba(X_train)[:,1]))\n",
    "# print('ROC-AUC для валидационной выборки:',  roc_auc_score(y_valid, y_pred))\n",
    "print('ROC-AUC для тестовой выборки:     ',  roc_auc_score(y_test, best_rf.predict_proba(X_test)[:,1]))"
   ]
  },
  {
   "cell_type": "code",
   "execution_count": null,
   "id": "large-elimination",
   "metadata": {},
   "outputs": [],
   "source": []
  },
  {
   "cell_type": "code",
   "execution_count": null,
   "id": "tropical-aurora",
   "metadata": {},
   "outputs": [],
   "source": []
  },
  {
   "cell_type": "code",
   "execution_count": null,
   "id": "initial-progressive",
   "metadata": {},
   "outputs": [],
   "source": []
  },
  {
   "cell_type": "code",
   "execution_count": null,
   "id": "convenient-commons",
   "metadata": {},
   "outputs": [],
   "source": []
  },
  {
   "cell_type": "code",
   "execution_count": null,
   "id": "unexpected-identification",
   "metadata": {},
   "outputs": [],
   "source": []
  },
  {
   "cell_type": "code",
   "execution_count": null,
   "id": "liked-malpractice",
   "metadata": {},
   "outputs": [],
   "source": []
  },
  {
   "cell_type": "markdown",
   "id": "clear-reading",
   "metadata": {},
   "source": [
    "## Visualization"
   ]
  },
  {
   "cell_type": "code",
   "execution_count": 181,
   "id": "contained-aquarium",
   "metadata": {},
   "outputs": [
    {
     "name": "stdout",
     "output_type": "stream",
     "text": [
      "ROC-AUC = 0.6263397676407525\n",
      "Time taken = 16.503920793533325\n",
      "              precision    recall  f1-score   support\n",
      "\n",
      "           0    0.95859   1.00000   0.97886     10139\n",
      "           1    0.00000   0.00000   0.00000       438\n",
      "\n",
      "    accuracy                        0.95859     10577\n",
      "   macro avg    0.47929   0.50000   0.48943     10577\n",
      "weighted avg    0.91889   0.95859   0.93832     10577\n",
      "\n"
     ]
    },
    {
     "name": "stderr",
     "output_type": "stream",
     "text": [
      "/home/berthakim/miniconda3/lib/python3.8/site-packages/sklearn/metrics/_classification.py:1245: UndefinedMetricWarning: Precision and F-score are ill-defined and being set to 0.0 in labels with no predicted samples. Use `zero_division` parameter to control this behavior.\n",
      "  _warn_prf(average, modifier, msg_start, len(result))\n",
      "/home/berthakim/miniconda3/lib/python3.8/site-packages/sklearn/metrics/_classification.py:1245: UndefinedMetricWarning: Precision and F-score are ill-defined and being set to 0.0 in labels with no predicted samples. Use `zero_division` parameter to control this behavior.\n",
      "  _warn_prf(average, modifier, msg_start, len(result))\n",
      "/home/berthakim/miniconda3/lib/python3.8/site-packages/sklearn/metrics/_classification.py:1245: UndefinedMetricWarning: Precision and F-score are ill-defined and being set to 0.0 in labels with no predicted samples. Use `zero_division` parameter to control this behavior.\n",
      "  _warn_prf(average, modifier, msg_start, len(result))\n"
     ]
    },
    {
     "data": {
      "image/png": "[encoded data removed]",
      "text/plain": [
       "<Figure size 432x288 with 1 Axes>"
      ]
     },
     "metadata": {
      "needs_background": "light"
     },
     "output_type": "display_data"
    },
    {
     "data": {
      "image/png": "[encoded data removed]",
      "text/plain": [
       "<Figure size 432x288 with 2 Axes>"
      ]
     },
     "metadata": {
      "needs_background": "light"
     },
     "output_type": "display_data"
    }
   ],
   "source": [
    "# функция для обучения модели и подсчета roc-auc\n",
    "import time\n",
    "from sklearn.metrics import roc_auc_score, plot_confusion_matrix, roc_curve, classification_report\n",
    "\n",
    "def run_model(model, X_train, y_train, xtest, y_test, verbose=True):\n",
    "    t0=time.time()\n",
    "    if verbose == False:\n",
    "        model.fit(X_train, y_train, verbose=0)\n",
    "    else:\n",
    "        model.fit(X_train, y_train)\n",
    "    y_pred = model.predict(X_test)\n",
    "    y_pred_prob = model.predict_proba(X_test)[:, 1]\n",
    "    roc_auc_prob = roc_auc_score(y_test, y_pred_prob)\n",
    "    time_taken = time.time()-t0\n",
    "    print(\"ROC-AUC = {}\".format(roc_auc_prob))\n",
    "    print(\"Time taken = {}\".format(time_taken))\n",
    "    print(classification_report(y_test, y_pred,digits=5))\n",
    "    \n",
    "    # probs = model.predict_proba(X_test)[:, 1]\n",
    "    fper, tper, thresholds = roc_curve(y_test, y_pred_prob) \n",
    "    plot_roc_cur(fper, tper)\n",
    "    \n",
    "    plot_confusion_matrix(model, X_test, y_test,cmap=plt.cm.Blues, normalize = 'all')\n",
    "    \n",
    "    return model, roc_auc_prob, time_taken\n",
    "\n",
    "# отрисовка ROC кривой и confusion matrix\n",
    "def plot_roc_cur(fper, tper):  \n",
    "    plt.plot(fper, tper, color='orange', label='ROC')\n",
    "    plt.plot([0, 1], [0, 1], color='darkblue', linestyle='--')\n",
    "    plt.xlabel('False Positive Rate')\n",
    "    plt.ylabel('True Positive Rate')\n",
    "    plt.title('ROC Curve')\n",
    "    plt.legend()\n",
    "    plt.show()\n",
    "    \n",
    "model_rf, roc_auc_rf, tt_rf = run_model(best_rf, X_train, y_train, X_test, y_test)"
   ]
  },
  {
   "cell_type": "markdown",
   "id": "verbal-cargo",
   "metadata": {},
   "source": [
    "## If performance is not satisfactory...\n",
    "\n",
    "https://towardsdatascience.com/improving-random-forest-in-python-part-1-893916666cd\n",
    "\n",
    "Есть три общих подхода к улучшению существующей модели машинного обучения:\n",
    "\n",
    "- Используйте больше (высококачественных) данных и функций\n",
    "- Настроить гиперпараметры алгоритма\n",
    "- Попробуйте другие алгоритмы\n",
    "\n",
    "Они представлены в том порядке, в котором я их обычно пробую.\n",
    "\n",
    "\n",
    "- отбор фичей, уменьшение их количества\n",
    "- Другие способы уменьшения количества признаков: PCA, ICA "
   ]
  },
  {
   "cell_type": "markdown",
   "id": "hispanic-tongue",
   "metadata": {},
   "source": [
    "## Improve quality\n",
    "\n",
    "- feature importance\n",
    "- feature engeeniring\n",
    "- configure parameters\n",
    "- enrichir les données? - See Проанализировать, как качество на обучении и тесте меняется в зависимости от объема обучающей выборки."
   ]
  },
  {
   "cell_type": "markdown",
   "id": "black-jewelry",
   "metadata": {},
   "source": [
    "### Варьируем число фолдов"
   ]
  },
  {
   "cell_type": "code",
   "execution_count": 183,
   "id": "appropriate-shield",
   "metadata": {},
   "outputs": [
    {
     "name": "stdout",
     "output_type": "stream",
     "text": [
      "cv = 3 : 0.7192250449072961\n",
      "cv = 4 : 0.7192250449072961\n",
      "cv = 5 : 0.7192250449072961\n",
      "cv = 6 : 0.7192250449072961\n"
     ]
    }
   ],
   "source": [
    "e = []\n",
    "for n in range(3, 7):\n",
    "    model_rf = RandomForestClassifier(random_state=42)\n",
    "    params_grid = {'max_depth':[5], \"n_estimators\":[350], 'criterion':['entropy']}\n",
    "    search_grid = GridSearchCV(model_rf, params_grid, n_jobs=-1, cv=n)\n",
    "    search_grid.fit(X_train, y_train)\n",
    "    y_pred = search_grid.predict_proba(X_train)[:,1]\n",
    "    auc = roc_auc_score(y_train, y_pred)\n",
    "    print(\"cv =\", n, \":\", auc)\n",
    "    e.append(auc)"
   ]
  },
  {
   "cell_type": "code",
   "execution_count": null,
   "id": "owned-affairs",
   "metadata": {},
   "outputs": [],
   "source": [
    "e = []\n",
    "for n in range(3, 7):\n",
    "    model_rf = RandomForestClassifier(random_state=42)\n",
    "    params_grid = {'max_depth':[5], \"n_estimators\":[350], 'criterion':['entropy']}\n",
    "    search_grid = GridSearchCV(model_rf, params_grid, n_jobs=-1, cv=n)\n",
    "    search_grid.fit(X_train, y_train)\n",
    "    y_pred = search_grid.predict_proba(X_train)[:,1]\n",
    "    auc = roc_auc_score(y_train, y_pred)\n",
    "    print(\"cv =\", n, \":\", auc)\n",
    "    e.append(auc)"
   ]
  },
  {
   "cell_type": "markdown",
   "id": "analyzed-digit",
   "metadata": {},
   "source": [
    "Проанализировать, как качество на обучении и тесте меняется в зависимости от объема обучающей выборки.\n",
    "Faut-il ajouter les données\n",
    "\n",
    "coursera-yandex-mipt-обучение-на-размеченных-данных\n",
    "\n",
    "Проанализировать, как качество на обучении и тесте меняется в зависимости от объема обучающей выборки.\n",
    "\n",
    "Объем обучающей выборки и сложность модели значительно сказываются на времени построения модели. С этой точки зрения строить кривые обучения очень полезно — можно проанализировать, имеет ли смысл добавлять больше данных в обучение.\n",
    "\n",
    "Вместо поиска по сетке решим другую задачу — проанализируем, как зависит качество модели от количества обучающих объектов выборки. как зависит качество модели от количества обучающих объектов выборки?\n",
    "\n",
    "Для этого давайте создадим нашу модель. Для начала будем строить случайный лес над 50 деревьями, каждый из которых будет иметь глубину не больше 2. Создаем такой объект\n"
   ]
  },
  {
   "cell_type": "markdown",
   "id": "double-graduate",
   "metadata": {},
   "source": [
    "## Зависимость качества обучения от объема обучающей выборки"
   ]
  },
  {
   "cell_type": "code",
   "execution_count": 184,
   "id": "contained-controversy",
   "metadata": {},
   "outputs": [
    {
     "name": "stdout",
     "output_type": "stream",
     "text": [
      "Populating the interactive namespace from numpy and matplotlib\n"
     ]
    },
    {
     "name": "stderr",
     "output_type": "stream",
     "text": [
      "/home/berthakim/miniconda3/lib/python3.8/site-packages/IPython/core/magics/pylab.py:159: UserWarning: pylab import has clobbered these variables: ['f', 'e', 'test']\n",
      "`%matplotlib` prevents importing * from pylab and numpy\n",
      "  warn(\"pylab import has clobbered these variables: %s\"  % clobbered +\n"
     ]
    }
   ],
   "source": [
    "from sklearn.model_selection import cross_val_score, learning_curve\n",
    "from sklearn import ensemble, metrics\n",
    "%pylab inline"
   ]
  },
  {
   "cell_type": "code",
   "execution_count": 185,
   "id": "configured-coach",
   "metadata": {},
   "outputs": [],
   "source": [
    "clf_rf = ensemble.RandomForestClassifier(n_estimators = 50, max_depth = 2, random_state = 1)"
   ]
  },
  {
   "cell_type": "markdown",
   "id": "tribal-mozambique",
   "metadata": {},
   "source": [
    "И теперь давайте построим следующий график — нам будет интересно посмотреть, как меняется качество на обучающей и тестовой выборке, в зависимости от того, на скольких объектах мы обучаемся.\n",
    "\n",
    "Для того чтобы получить такие графики, у sklearn есть специальная функция под названием learning_curve. Она позволяет нам сделать следующее — ей можно передать на вход нужный нам алгоритм, передать данные и целевую функцию, а также сказать, в каких пропорциях мы хотим обучаться, то есть на каких долях обучающей выборки мы хотим строить модель.\n",
    "\n",
    "После этого с помощью этого метода будут построены несколько моделей, мы получим оценку качества на каждом объеме обучающей выборки, и нам будут возвращены размер обучающей выборки, оценки качества на «трейне» и оценка качества на тесте.\n",
    "\n",
    "Имея такие данные, мы легко сможем проанализировать, как качество на обучении и тесте меняется от объема обучающей выборки. Вот давайте сделаем такую вещь.\n",
    "\n",
    "Мы передаем в функцию наш классификатор, который мы создали ранее. Далее передаем туда данные, которые мы также подготовили на предварительном шаге. И говорим, что мы будем обучать модель на следующих данных: сначала мы возьмем 0,1 от обучающей выборки и далее будем двигаться с шагом 0,2 до 1. Оценивать качество будем с помощью уже знакомой нам метрики roc-auc и будем делать кросс-валидацию на 3 фолда. Давайте запустим.\n"
   ]
  },
  {
   "cell_type": "code",
   "execution_count": 186,
   "id": "frequent-elizabeth",
   "metadata": {},
   "outputs": [],
   "source": [
    "# max_depth=5, 100% of data\n",
    "\n",
    "train_sizes, train_scores, test_scores = learning_curve(clf_rf, X_train, y_train, \n",
    "                                                        train_sizes=np.arange(0.1,1, 0.2), \n",
    "                                                        cv=5, scoring='roc_auc')"
   ]
  },
  {
   "cell_type": "code",
   "execution_count": 187,
   "id": "similar-locator",
   "metadata": {},
   "outputs": [
    {
     "data": {
      "text/plain": [
       "(24678, 47)"
      ]
     },
     "execution_count": 187,
     "metadata": {},
     "output_type": "execute_result"
    }
   ],
   "source": [
    "X_train.shape"
   ]
  },
  {
   "cell_type": "code",
   "execution_count": 188,
   "id": "powerful-concert",
   "metadata": {},
   "outputs": [
    {
     "name": "stdout",
     "output_type": "stream",
     "text": [
      "[ 1974  5922  9871 13819 17767]\n",
      "[0.74475675 0.68767969 0.66743736 0.65714336 0.65385532]\n",
      "[0.61833294 0.62964282 0.62767932 0.63238858 0.63264683]\n"
     ]
    }
   ],
   "source": [
    "print(train_sizes)\n",
    "print(train_scores.mean(axis = 1))\n",
    "print(test_scores.mean(axis = 1))"
   ]
  },
  {
   "cell_type": "markdown",
   "id": "ceramic-direction",
   "metadata": {},
   "source": [
    "Ну для начала мы видим, что train_sizes — размер обучающей выборки — был преобразован из долей в конкретное количество объектов, на которых мы обучались. То есть мы видим, что минимальное количество обучающих объектов в рамках нашего эксперимента составляет 250, максимальное — 2250. Также нам доступны оценки качества на обучении и оценки качества на тесте. Так как у нас проводилась кросс-валидация, я сразу же сделала усреднение по всем фолдам — это делается с помощью команды mean. Аргумент axis = 1 означает, что мы будем усреднять по строчкам. Вот в данном случае каждая строка — это результат измерения кросс-валидации, поэтому нам это подходит.\n",
    "\n",
    "Теперь давайте построим график. Сразу добавим на график сетку и будем строить две кривые — качество обучения на обучающей выборке и на тестовой выборке.\n"
   ]
  },
  {
   "cell_type": "code",
   "execution_count": 189,
   "id": "adjusted-incident",
   "metadata": {},
   "outputs": [
    {
     "data": {
      "image/png": "[encoded data removed]",
      "text/plain": [
       "<Figure size 432x288 with 1 Axes>"
      ]
     },
     "metadata": {
      "needs_background": "light"
     },
     "output_type": "display_data"
    }
   ],
   "source": [
    "pylab.grid(True)\n",
    "pylab.plot(train_sizes, train_scores.mean(axis = 1), 'g-', marker='o', label='train')\n",
    "pylab.plot(train_sizes, test_scores.mean(axis = 1), 'r-', marker='o', label='test')\n",
    "pylab.ylim((0.0, 1.05))\n",
    "pylab.legend(loc='lower right');"
   ]
  },
  {
   "cell_type": "markdown",
   "id": "protective-knife",
   "metadata": {},
   "source": [
    "Давайте посмотрим. Так, мы видим, что в начале качество на обучающей выборке падает — приблизительно до отметки 1250 деревьев, и дальше качество меняется очень медленно. С другой стороны, на тестовой выборке качество продолжает расти приблизительно до этой же точки, и дальше оно также перестает меняться. Какой вывод мы можем сделать из этого? Дальнейший рост обучающей выборки вряд ли скажется на качестве нашей модели. Это говорит о том, что модель данной сложности не может многое выиграть за счет того, что мы обогатим данные. Что же делать в такой ситуации? Кривые обучения для деревьев большей глубины\n",
    "\n",
    "Давайте попробуем увеличить сложность модели — возможно, это приведет к улучшению ее качества. Так как мы с вами обучали модель на деревьях глубины 2, давайте увеличим глубину деревьев — это даст нам дополнительные возможности.\n",
    "\n",
    "Снова создаем классификатор RandomForestClassifier, но в этот раз указываем ему параметр max_depth = 10 — это максимально возможная глубина деревьев.\n"
   ]
  },
  {
   "cell_type": "markdown",
   "id": "organizational-modification",
   "metadata": {},
   "source": [
    "### А вообще нужно решить проблему несбалансированности выборки\n",
    "\n",
    "<...>"
   ]
  },
  {
   "cell_type": "code",
   "execution_count": 191,
   "id": "academic-preliminary",
   "metadata": {},
   "outputs": [
    {
     "name": "stdout",
     "output_type": "stream",
     "text": [
      "[ 1974  5922  9871 13819 17767]\n",
      "[0.76254591 0.69129321 0.67820807 0.66480412 0.65797235]\n",
      "[0.60954727 0.62823359 0.62721813 0.63272581 0.63420853]\n"
     ]
    },
    {
     "data": {
      "image/png": "[encoded data removed]",
      "text/plain": [
       "<Figure size 432x288 with 1 Axes>"
      ]
     },
     "metadata": {
      "needs_background": "light"
     },
     "output_type": "display_data"
    }
   ],
   "source": [
    "# max_depth=18\n",
    "clf_rf = ensemble.RandomForestClassifier(n_estimators = 600, max_depth = 2, random_state = 1)\n",
    "\n",
    "\n",
    "# Теперь давайте еще раз запустим команду learning_curve и \n",
    "# построим кривую обучения на тесте и на обучении, при этом \n",
    "# мы будем делать это по тем же самым точкам, по тем же \n",
    "# самым долям обучающей выборки.\n",
    "train_sizes, train_scores, test_scores = learning_curve(clf_rf, X_train, y_train, \n",
    "                                                        train_sizes=np.arange(0.1,1, 0.2), \n",
    "                                                        cv=5, scoring='roc_auc')\n",
    "print(train_sizes)\n",
    "print(train_scores.mean(axis = 1))\n",
    "print(test_scores.mean(axis = 1))\n",
    "\n",
    "pylab.grid(True)\n",
    "pylab.plot(train_sizes, train_scores.mean(axis = 1), 'g-', marker='o', label='train')\n",
    "pylab.plot(train_sizes, test_scores.mean(axis = 1), 'r-', marker='o', label='test')\n",
    "pylab.ylim((0.0, 1.05))\n",
    "pylab.legend(loc='lower right');"
   ]
  },
  {
   "cell_type": "markdown",
   "id": "individual-asian",
   "metadata": {},
   "source": [
    "### Results\n",
    "\n",
    "При 50 деревьях не хватает обобщающей способности модели"
   ]
  },
  {
   "cell_type": "markdown",
   "id": "bulgarian-writer",
   "metadata": {},
   "source": [
    "## Feature Importance\n",
    "\n",
    "Отбор признаков является важным этапом построения алгоритмов машинногообучения. Данный этап необходим, чтобы избавиться от шумовых признаков и бла-годаря этому улучшить качество и ускорить работу алгоритмов. Проведенные экспе-рименты подтверждают, что алгоритмы отбора признаков с помощью Random Forestэффективно справляется со своей задачей\n",
    "http://www.machinelearning.ru/wiki/images/9/96/RysmyatovaCourseFile.pdf"
   ]
  },
  {
   "cell_type": "markdown",
   "id": "excellent-concentrate",
   "metadata": {},
   "source": [
    "In order to quantify the usefulness of all the variables in the entire random forest, we can look at the relative importances of the variables. The importances returned in Skicit-learn represent how much including a particular variable improves the prediction. The actual calculation of the importance is beyond the scope of this post, but we can use the numbers to make relative comparisons between variables."
   ]
  },
  {
   "cell_type": "code",
   "execution_count": 193,
   "id": "threaded-cosmetic",
   "metadata": {
    "scrolled": false
   },
   "outputs": [
    {
     "data": {
      "image/png": "[encoded data removed]",
      "text/plain": [
       "<Figure size 864x576 with 1 Axes>"
      ]
     },
     "metadata": {
      "needs_background": "light"
     },
     "output_type": "display_data"
    }
   ],
   "source": [
    "# Код для отрисовки важности фичей 1\n",
    "\n",
    "imp = pd.DataFrame(best_rf.feature_importances_, index=X_train.columns, columns=['importance'])\n",
    "imp.sort_values('importance').plot(kind='barh', figsize=(12, 8));"
   ]
  },
  {
   "cell_type": "code",
   "execution_count": null,
   "id": "after-joyce",
   "metadata": {},
   "outputs": [],
   "source": []
  },
  {
   "cell_type": "code",
   "execution_count": null,
   "id": "unusual-people",
   "metadata": {},
   "outputs": [],
   "source": []
  },
  {
   "cell_type": "code",
   "execution_count": null,
   "id": "continued-thousand",
   "metadata": {},
   "outputs": [],
   "source": []
  },
  {
   "cell_type": "code",
   "execution_count": null,
   "id": "failing-armor",
   "metadata": {},
   "outputs": [],
   "source": []
  },
  {
   "cell_type": "code",
   "execution_count": null,
   "id": "angry-machine",
   "metadata": {},
   "outputs": [],
   "source": []
  },
  {
   "cell_type": "code",
   "execution_count": null,
   "id": "appointed-vessel",
   "metadata": {},
   "outputs": [],
   "source": []
  },
  {
   "cell_type": "code",
   "execution_count": null,
   "id": "polyphonic-clothing",
   "metadata": {},
   "outputs": [],
   "source": []
  },
  {
   "cell_type": "code",
   "execution_count": null,
   "id": "practical-edward",
   "metadata": {},
   "outputs": [],
   "source": []
  },
  {
   "cell_type": "code",
   "execution_count": null,
   "id": "assumed-chaos",
   "metadata": {},
   "outputs": [],
   "source": []
  },
  {
   "cell_type": "code",
   "execution_count": null,
   "id": "cloudy-brunswick",
   "metadata": {},
   "outputs": [],
   "source": []
  },
  {
   "cell_type": "code",
   "execution_count": null,
   "id": "above-export",
   "metadata": {},
   "outputs": [],
   "source": []
  }
 ],
 "metadata": {
  "kernelspec": {
   "display_name": "Python 3",
   "language": "python",
   "name": "python3"
  },
  "language_info": {
   "codemirror_mode": {
    "name": "ipython",
    "version": 3
   },
   "file_extension": ".py",
   "mimetype": "text/x-python",
   "name": "python",
   "nbconvert_exporter": "python",
   "pygments_lexer": "ipython3",
   "version": "3.8.5"
  }
 },
 "nbformat": 4,
 "nbformat_minor": 5
}
