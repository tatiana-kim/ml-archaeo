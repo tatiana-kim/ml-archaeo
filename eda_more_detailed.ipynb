{
 "cells": [
  {
   "cell_type": "code",
   "execution_count": 1,
   "id": "automotive-province",
   "metadata": {},
   "outputs": [],
   "source": [
    "import pandas as pd"
   ]
  },
  {
   "cell_type": "code",
   "execution_count": 2,
   "id": "central-george",
   "metadata": {},
   "outputs": [],
   "source": [
    "df = pd.read_csv(\"data/features_target.csv\", sep=\";\")"
   ]
  },
  {
   "cell_type": "code",
   "execution_count": 3,
   "id": "loaded-breakfast",
   "metadata": {},
   "outputs": [
    {
     "data": {
      "text/html": [
       "<div>\n",
       "<style scoped>\n",
       "    .dataframe tbody tr th:only-of-type {\n",
       "        vertical-align: middle;\n",
       "    }\n",
       "\n",
       "    .dataframe tbody tr th {\n",
       "        vertical-align: top;\n",
       "    }\n",
       "\n",
       "    .dataframe thead th {\n",
       "        text-align: right;\n",
       "    }\n",
       "</style>\n",
       "<table border=\"1\" class=\"dataframe\">\n",
       "  <thead>\n",
       "    <tr style=\"text-align: right;\">\n",
       "      <th></th>\n",
       "      <th>id</th>\n",
       "      <th>slope</th>\n",
       "      <th>cd_water</th>\n",
       "      <th>aspect</th>\n",
       "      <th>hill90</th>\n",
       "      <th>hill5</th>\n",
       "      <th>hill45</th>\n",
       "      <th>clc00</th>\n",
       "      <th>numpoints</th>\n",
       "      <th>target</th>\n",
       "    </tr>\n",
       "  </thead>\n",
       "  <tbody>\n",
       "    <tr>\n",
       "      <th>0</th>\n",
       "      <td>1</td>\n",
       "      <td>4.98010</td>\n",
       "      <td>0.256047</td>\n",
       "      <td>9</td>\n",
       "      <td>254</td>\n",
       "      <td>0</td>\n",
       "      <td>195</td>\n",
       "      <td>312</td>\n",
       "      <td>0</td>\n",
       "      <td>0</td>\n",
       "    </tr>\n",
       "    <tr>\n",
       "      <th>1</th>\n",
       "      <td>2</td>\n",
       "      <td>3.36810</td>\n",
       "      <td>0.296268</td>\n",
       "      <td>2</td>\n",
       "      <td>254</td>\n",
       "      <td>0</td>\n",
       "      <td>187</td>\n",
       "      <td>312</td>\n",
       "      <td>0</td>\n",
       "      <td>0</td>\n",
       "    </tr>\n",
       "    <tr>\n",
       "      <th>2</th>\n",
       "      <td>3</td>\n",
       "      <td>3.86523</td>\n",
       "      <td>0.374666</td>\n",
       "      <td>2</td>\n",
       "      <td>254</td>\n",
       "      <td>0</td>\n",
       "      <td>186</td>\n",
       "      <td>312</td>\n",
       "      <td>0</td>\n",
       "      <td>0</td>\n",
       "    </tr>\n",
       "    <tr>\n",
       "      <th>3</th>\n",
       "      <td>4</td>\n",
       "      <td>5.56061</td>\n",
       "      <td>0.471633</td>\n",
       "      <td>2</td>\n",
       "      <td>253</td>\n",
       "      <td>0</td>\n",
       "      <td>191</td>\n",
       "      <td>312</td>\n",
       "      <td>0</td>\n",
       "      <td>0</td>\n",
       "    </tr>\n",
       "    <tr>\n",
       "      <th>4</th>\n",
       "      <td>5</td>\n",
       "      <td>9.50320</td>\n",
       "      <td>0.589352</td>\n",
       "      <td>10</td>\n",
       "      <td>251</td>\n",
       "      <td>0</td>\n",
       "      <td>204</td>\n",
       "      <td>312</td>\n",
       "      <td>0</td>\n",
       "      <td>0</td>\n",
       "    </tr>\n",
       "  </tbody>\n",
       "</table>\n",
       "</div>"
      ],
      "text/plain": [
       "   id    slope  cd_water  aspect  hill90  hill5  hill45  clc00  numpoints  \\\n",
       "0   1  4.98010  0.256047       9     254      0     195    312          0   \n",
       "1   2  3.36810  0.296268       2     254      0     187    312          0   \n",
       "2   3  3.86523  0.374666       2     254      0     186    312          0   \n",
       "3   4  5.56061  0.471633       2     253      0     191    312          0   \n",
       "4   5  9.50320  0.589352      10     251      0     204    312          0   \n",
       "\n",
       "   target  \n",
       "0       0  \n",
       "1       0  \n",
       "2       0  \n",
       "3       0  \n",
       "4       0  "
      ]
     },
     "execution_count": 3,
     "metadata": {},
     "output_type": "execute_result"
    }
   ],
   "source": [
    "df.head()"
   ]
  },
  {
   "cell_type": "code",
   "execution_count": 4,
   "id": "light-production",
   "metadata": {},
   "outputs": [
    {
     "data": {
      "text/plain": [
       "(35255, 10)"
      ]
     },
     "execution_count": 4,
     "metadata": {},
     "output_type": "execute_result"
    }
   ],
   "source": [
    "df.shape"
   ]
  },
  {
   "cell_type": "markdown",
   "id": "serial-redhead",
   "metadata": {},
   "source": [
    "Number of rows: 35255\n",
    "\n",
    "Number of columns: 10"
   ]
  },
  {
   "cell_type": "code",
   "execution_count": 5,
   "id": "previous-action",
   "metadata": {},
   "outputs": [],
   "source": [
    "# categorical and numeric features\n",
    "cat_cols = [\"aspect\", \"clc00\"]\n",
    "num_cols = [\"slope\", \"cd_water\", \"hill5\", \"hill45\", \"hill90\"]"
   ]
  },
  {
   "cell_type": "code",
   "execution_count": 6,
   "id": "quarterly-hungary",
   "metadata": {},
   "outputs": [
    {
     "data": {
      "text/plain": [
       "id           0\n",
       "slope        0\n",
       "cd_water     0\n",
       "aspect       0\n",
       "hill90       0\n",
       "hill5        0\n",
       "hill45       0\n",
       "clc00        0\n",
       "numpoints    0\n",
       "target       0\n",
       "dtype: int64"
      ]
     },
     "execution_count": 6,
     "metadata": {},
     "output_type": "execute_result"
    }
   ],
   "source": [
    "# hopefuly we haven't any nan values\n",
    "df.isna().sum()"
   ]
  },
  {
   "cell_type": "markdown",
   "id": "regulated-cyprus",
   "metadata": {},
   "source": [
    "### Type d'occupation du sol\n",
    "\n",
    "- données: Corine Land Cover 2000\n",
    "- source: \n",
    "- transformation (in ArcGIS) to obtain the feature for machine learning model: non\n",
    "- comments:"
   ]
  },
  {
   "cell_type": "markdown",
   "id": "handy-italian",
   "metadata": {},
   "source": [
    "#### here: image clc00"
   ]
  },
  {
   "cell_type": "markdown",
   "id": "honest-thumb",
   "metadata": {},
   "source": [
    "#### repartition des types de sol,  en pourcentage"
   ]
  },
  {
   "cell_type": "code",
   "execution_count": 8,
   "id": "amazing-equality",
   "metadata": {},
   "outputs": [],
   "source": [
    "import seaborn as sns"
   ]
  },
  {
   "cell_type": "code",
   "execution_count": 18,
   "id": "listed-fossil",
   "metadata": {
    "scrolled": false
   },
   "outputs": [
    {
     "data": {
      "image/png": "[encoded data removed]",
      "text/plain": [
       "<Figure size 1080x360 with 1 Axes>"
      ]
     },
     "metadata": {
      "needs_background": "light"
     },
     "output_type": "display_data"
    }
   ],
   "source": [
    "sns.catplot(x=\"clc00\", kind=\"count\", palette=\"ch:.25\", height=5, aspect=15/5, data=df);"
   ]
  },
  {
   "cell_type": "raw",
   "id": "dimensional-middle",
   "metadata": {},
   "source": [
    " 111: 'Continuous urban fabric',\n",
    " 112: 'Discontinuous urban fabric',\n",
    " 121: 'Industrial or commercial units and public facilities',\n",
    " 122: 'Road and rail networks and associated land',\n",
    " 123: 'Port areas',\n",
    " 124: 'Airports',\n",
    " 131: 'Mineral extraction sites',\n",
    " 132: 'Dump sites',\n",
    " 141: 'Construction sites',\n",
    " 142: 'Green urban areas',\n",
    " 211: 'Sport and leisure facilities',\n",
    " 221: 'Non-irrigated arable land',\n",
    " 222: 'Permanently irrigated land',\n",
    " 223: 'Rice fields',\n",
    " 231: 'Vineyards',\n",
    " 242: 'Fruit trees and berry plantations',\n",
    " 243: 'Olive groves',\n",
    " 311: 'Pastures, meadows and other permanent grasslands under agricultural use',\n",
    " 312: 'Annual crops associated with permanent crops',\n",
    " 313: 'Complex cultivation patterns',\n",
    " 321: 'Land principally occupied by agriculture, with significant areas of natural vegetation',\n",
    " 322: 'Agro-forestry areas',\n",
    " 323: 'Broad-leaved forest',\n",
    " 324: 'Coniferous forest',\n",
    " 331: 'Mixed forest',\n",
    " 332: 'Natural grasslands',\n",
    " 333: 'Moors and heathland',\n",
    " 334: 'Sclerophyllous vegetation',\n",
    " 411: 'Transitional woodland-shrub',\n",
    " 421: 'Beaches, dunes, sands',\n",
    " 512: 'Bare rocks',\n",
    " 521: 'Sparsely vegetated areas',\n",
    " 523: 'Burnt areas'"
   ]
  },
  {
   "cell_type": "markdown",
   "id": "divided-taste",
   "metadata": {},
   "source": [
    "horizontal plot with labels on it\n",
    "\n",
    "https://sharkcoder.com/data-visualization/mpl-barh-chart\n",
    "\n",
    "https://towardsdatascience.com/how-to-make-bar-and-hbar-charts-with-labels-using-matplotlib-b701ce70ba9c"
   ]
  },
  {
   "cell_type": "code",
   "execution_count": null,
   "id": "synthetic-saturday",
   "metadata": {},
   "outputs": [],
   "source": []
  },
  {
   "cell_type": "code",
   "execution_count": null,
   "id": "occupied-austin",
   "metadata": {},
   "outputs": [],
   "source": []
  },
  {
   "cell_type": "code",
   "execution_count": null,
   "id": "divine-opposition",
   "metadata": {},
   "outputs": [],
   "source": []
  },
  {
   "cell_type": "code",
   "execution_count": null,
   "id": "intensive-recovery",
   "metadata": {},
   "outputs": [],
   "source": []
  },
  {
   "cell_type": "code",
   "execution_count": null,
   "id": "pleased-cancellation",
   "metadata": {},
   "outputs": [],
   "source": []
  },
  {
   "cell_type": "code",
   "execution_count": null,
   "id": "driving-commons",
   "metadata": {},
   "outputs": [],
   "source": []
  },
  {
   "cell_type": "code",
   "execution_count": null,
   "id": "editorial-pension",
   "metadata": {},
   "outputs": [],
   "source": []
  },
  {
   "cell_type": "code",
   "execution_count": null,
   "id": "frozen-seventh",
   "metadata": {},
   "outputs": [],
   "source": []
  },
  {
   "cell_type": "code",
   "execution_count": null,
   "id": "alpine-window",
   "metadata": {},
   "outputs": [],
   "source": []
  },
  {
   "cell_type": "code",
   "execution_count": 7,
   "id": "metallic-kitchen",
   "metadata": {},
   "outputs": [],
   "source": [
    "from matplotlib import pyplot as plt"
   ]
  },
  {
   "cell_type": "code",
   "execution_count": null,
   "id": "immune-movement",
   "metadata": {},
   "outputs": [],
   "source": []
  },
  {
   "cell_type": "code",
   "execution_count": null,
   "id": "biblical-beijing",
   "metadata": {},
   "outputs": [],
   "source": []
  },
  {
   "cell_type": "code",
   "execution_count": null,
   "id": "unable-writing",
   "metadata": {},
   "outputs": [],
   "source": []
  },
  {
   "cell_type": "code",
   "execution_count": null,
   "id": "revolutionary-mouse",
   "metadata": {},
   "outputs": [],
   "source": []
  },
  {
   "cell_type": "code",
   "execution_count": null,
   "id": "disciplinary-interest",
   "metadata": {},
   "outputs": [],
   "source": []
  },
  {
   "cell_type": "code",
   "execution_count": null,
   "id": "cubic-jefferson",
   "metadata": {},
   "outputs": [],
   "source": []
  },
  {
   "cell_type": "code",
   "execution_count": null,
   "id": "alike-strength",
   "metadata": {},
   "outputs": [],
   "source": []
  },
  {
   "cell_type": "code",
   "execution_count": null,
   "id": "fantastic-watch",
   "metadata": {},
   "outputs": [],
   "source": []
  },
  {
   "cell_type": "code",
   "execution_count": null,
   "id": "personalized-denmark",
   "metadata": {},
   "outputs": [],
   "source": []
  },
  {
   "cell_type": "code",
   "execution_count": null,
   "id": "intensive-state",
   "metadata": {},
   "outputs": [],
   "source": []
  },
  {
   "cell_type": "code",
   "execution_count": null,
   "id": "automotive-genre",
   "metadata": {},
   "outputs": [],
   "source": []
  },
  {
   "cell_type": "code",
   "execution_count": null,
   "id": "primary-volume",
   "metadata": {},
   "outputs": [],
   "source": []
  }
 ],
 "metadata": {
  "kernelspec": {
   "display_name": "Python 3",
   "language": "python",
   "name": "python3"
  },
  "language_info": {
   "codemirror_mode": {
    "name": "ipython",
    "version": 3
   },
   "file_extension": ".py",
   "mimetype": "text/x-python",
   "name": "python",
   "nbconvert_exporter": "python",
   "pygments_lexer": "ipython3",
   "version": "3.8.5"
  }
 },
 "nbformat": 4,
 "nbformat_minor": 5
}
